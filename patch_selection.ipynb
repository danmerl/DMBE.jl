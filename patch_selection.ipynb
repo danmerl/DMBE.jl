{
 "cells": [
  {
   "cell_type": "markdown",
   "metadata": {},
   "source": [
    "# Dynamic Modeling in Behavorial Ecology: Julia Edition\n",
    "\n",
    "In which we work through several examples from Mangel & Clark in Julia."
   ]
  },
  {
   "cell_type": "code",
   "execution_count": 1,
   "metadata": {
    "collapsed": false
   },
   "outputs": [],
   "source": [
    "# patches are characterized the by following four parameters\n",
    "type Patch\n",
    "    β::Float64 # MC's probability of predation\n",
    "    λ::Float64 # MC's probability of finding food\n",
    "    α::Int64 # MC's cost to visit\n",
    "    Y::Int64 # MC's value of food\n",
    "end"
   ]
  },
  {
   "cell_type": "code",
   "execution_count": 2,
   "metadata": {
    "collapsed": false
   },
   "outputs": [],
   "source": [
    "# an Ecosystem is essentially an array of patches\n",
    "typealias Ecosystem Array{Patch,1};"
   ]
  },
  {
   "cell_type": "code",
   "execution_count": 4,
   "metadata": {
    "collapsed": false
   },
   "outputs": [
    {
     "data": {
      "text/plain": [
       "20"
      ]
     },
     "execution_count": 4,
     "metadata": {},
     "output_type": "execute_result"
    }
   ],
   "source": [
    "# the patches from page 54\n",
    "myplace = Ecosystem([\n",
    "    Patch(0., 0., 1, 0),\n",
    "    Patch(0.004, 0.4, 1, 3), \n",
    "    Patch(0.02, 0.6, 1, 5)\n",
    "    ]);\n",
    "\n",
    "x_c = 3::Int64; # critical energy threshold\n",
    "C = 10::Int64; # max capacity\n",
    "T = 20::Int64; # time horizon"
   ]
  },
  {
   "cell_type": "code",
   "execution_count": 5,
   "metadata": {
    "collapsed": false
   },
   "outputs": [],
   "source": [
    "function xprime(x::Int64, α::Int64, y::Int64, x_critical::Int64, C::Int64)\n",
    "    return clamp(x - α + y, x_critical, C)\n",
    "end;\n",
    "\n",
    "function xprimeprime(x::Int64, α::Int64, x_critical::Int64, C::Int64)\n",
    "    return clamp(x - α, x_critical, C)\n",
    "end;\n"
   ]
  },
  {
   "cell_type": "code",
   "execution_count": 6,
   "metadata": {
    "collapsed": false
   },
   "outputs": [],
   "source": [
    "function findOptimalSelections(\n",
    "    aplace::Ecosystem,\n",
    "    C::Int64,\n",
    "    T::Int64,\n",
    "    x_c::Int64)\n",
    "    Fitness = zeros(Float64, C+1, T)\n",
    "    Selection = zeros(Int64, C+1, T)\n",
    "    for t = T:-1:1\n",
    "        for x = 0:C\n",
    "            if t == T\n",
    "                Fitness[x+1, t] = x > x_c ? 1.0 : 0.0\n",
    "            elseif x <= x_c \n",
    "                Fitness[x+1, t] = 0.0\n",
    "            else \n",
    "                patchoptions = [(1-P.β)*\n",
    "                    (P.λ*Fitness[xprime(x, P.α, P.Y, x_c, C)+1,t+1] +\n",
    "                    (1.0-P.λ)*Fitness[xprimeprime(x, P.α, x_c, C)+1,t+1])\n",
    "                    for P in aplace]\n",
    "                (Fitness[x+1, t], Selection[x+1, t]) = findmax(patchoptions)\n",
    "            end\n",
    "        end\n",
    "    end\n",
    "    return Selection, Fitness\n",
    "end;"
   ]
  },
  {
   "cell_type": "code",
   "execution_count": 7,
   "metadata": {
    "collapsed": false
   },
   "outputs": [],
   "source": [
    "(Selection, Fitness) = findOptimalSelections(myplace, C, T, x_c);"
   ]
  },
  {
   "cell_type": "code",
   "execution_count": 8,
   "metadata": {
    "collapsed": false
   },
   "outputs": [
    {
     "data": {
      "text/plain": [
       "7x19 Array{Float64,2}:\n",
       " 0.588  0.588     0.588     0.588     …  0.5227    0.518155  0.513651\n",
       " 1.0    0.818496  0.818496  0.818496     0.736511  0.730198  0.723863\n",
       " 1.0    1.0       0.90885   0.90885      0.825702  0.818574  0.811538\n",
       " 1.0    1.0       1.0       0.944269     0.861025  0.853536  0.846181\n",
       " 1.0    1.0       1.0       1.0          0.881215  0.873557  0.865991\n",
       " 1.0    1.0       1.0       1.0       …  0.893367  0.885622  0.877955\n",
       " 1.0    1.0       1.0       1.0          0.901125  0.893367  0.885622"
      ]
     },
     "execution_count": 8,
     "metadata": {},
     "output_type": "execute_result"
    }
   ],
   "source": [
    "## compare to Mangel and Clark page 55\n",
    "Fitness[5:11,19:-1:1]"
   ]
  },
  {
   "cell_type": "code",
   "execution_count": null,
   "metadata": {
    "collapsed": true
   },
   "outputs": [],
   "source": []
  }
 ],
 "metadata": {
  "kernelspec": {
   "display_name": "Julia 0.4.4-pre",
   "language": "julia",
   "name": "julia-0.4"
  },
  "language_info": {
   "file_extension": ".jl",
   "mimetype": "application/julia",
   "name": "julia",
   "version": "0.4.4"
  }
 },
 "nbformat": 4,
 "nbformat_minor": 0
}
